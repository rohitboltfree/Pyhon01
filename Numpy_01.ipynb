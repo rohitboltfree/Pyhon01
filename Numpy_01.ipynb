{
  "nbformat": 4,
  "nbformat_minor": 0,
  "metadata": {
    "colab": {
      "provenance": [],
      "authorship_tag": "ABX9TyPsETY/UpHrrUAuX3wP35GL",
      "include_colab_link": true
    },
    "kernelspec": {
      "name": "python3",
      "display_name": "Python 3"
    },
    "language_info": {
      "name": "python"
    }
  },
  "cells": [
    {
      "cell_type": "markdown",
      "metadata": {
        "id": "view-in-github",
        "colab_type": "text"
      },
      "source": [
        "<a href=\"https://colab.research.google.com/github/rohitboltfree/Pyhon01/blob/main/Numpy_01.ipynb\" target=\"_parent\"><img src=\"https://colab.research.google.com/assets/colab-badge.svg\" alt=\"Open In Colab\"/></a>"
      ]
    },
    {
      "cell_type": "markdown",
      "source": [
        "PRACTICE OF CONDITIONAL ARRAY"
      ],
      "metadata": {
        "id": "6r6sfDrxC6O1"
      }
    },
    {
      "cell_type": "code",
      "execution_count": 2,
      "metadata": {
        "id": "kv3JNj7AB1D6",
        "colab": {
          "base_uri": "https://localhost:8080/"
        },
        "outputId": "3e37a750-1f9d-497b-acf0-6211f20c3d58"
      },
      "outputs": [
        {
          "output_type": "stream",
          "name": "stdout",
          "text": [
            "[ 0 -3  4 -1  8  1 12  3 16  5 20  7]\n"
          ]
        }
      ],
      "source": [
        "'''\n",
        "if(num % 2 == 0):\n",
        "  print(num*2)\n",
        "else:\n",
        "  print(num-4)\n",
        "\n",
        "This code is equivalent to the below code\n",
        "'''\n",
        "import numpy as np\n",
        "num = np.arange(12)\n",
        "condition_arr = np.where(num % 2 == 0, num*2, num-4)\n",
        "print(condition_arr)"
      ]
    },
    {
      "cell_type": "code",
      "source": [],
      "metadata": {
        "id": "EIwvjXRDKOIW"
      },
      "execution_count": null,
      "outputs": []
    }
  ]
}