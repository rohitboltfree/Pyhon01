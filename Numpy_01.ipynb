{
  "nbformat": 4,
  "nbformat_minor": 0,
  "metadata": {
    "colab": {
      "provenance": [],
      "authorship_tag": "ABX9TyPKMda+jRuVk5aP4Il90Sz5",
      "include_colab_link": true
    },
    "kernelspec": {
      "name": "python3",
      "display_name": "Python 3"
    },
    "language_info": {
      "name": "python"
    }
  },
  "cells": [
    {
      "cell_type": "markdown",
      "metadata": {
        "id": "view-in-github",
        "colab_type": "text"
      },
      "source": [
        "<a href=\"https://colab.research.google.com/github/rohitboltfree/Pyhon01/blob/main/Numpy_01.ipynb\" target=\"_parent\"><img src=\"https://colab.research.google.com/assets/colab-badge.svg\" alt=\"Open In Colab\"/></a>"
      ]
    },
    {
      "cell_type": "markdown",
      "source": [
        "PRACTICE OF CONDITIONAL ARRAY"
      ],
      "metadata": {
        "id": "6r6sfDrxC6O1"
      }
    },
    {
      "cell_type": "code",
      "execution_count": null,
      "metadata": {
        "id": "kv3JNj7AB1D6",
        "colab": {
          "base_uri": "https://localhost:8080/"
        },
        "outputId": "3e37a750-1f9d-497b-acf0-6211f20c3d58"
      },
      "outputs": [
        {
          "output_type": "stream",
          "name": "stdout",
          "text": [
            "[ 0 -3  4 -1  8  1 12  3 16  5 20  7]\n"
          ]
        }
      ],
      "source": [
        "'''\n",
        "if(num % 2 == 0):\n",
        "  print(num*2)\n",
        "else:\n",
        "  print(num-4)\n",
        "\n",
        "This code is equivalent to the below code\n",
        "'''\n",
        "import numpy as np\n",
        "num = np.arange(12)\n",
        "condition_arr = np.where(num % 2 == 0, num*2, num-4)\n",
        "print(condition_arr)"
      ]
    },
    {
      "cell_type": "code",
      "source": [
        "import numpy as np\n",
        "# random num for 2d array\n",
        "# this method consist the (start,end, size(2,3))\n",
        "arr = np.random.randint(2,5, size=(3,1))\n",
        "print(arr)"
      ],
      "metadata": {
        "colab": {
          "base_uri": "https://localhost:8080/"
        },
        "id": "EIwvjXRDKOIW",
        "outputId": "914be964-4690-41f6-a31f-ec624326c70f"
      },
      "execution_count": null,
      "outputs": [
        {
          "output_type": "stream",
          "name": "stdout",
          "text": [
            "[[2]\n",
            " [3]\n",
            " [2]]\n"
          ]
        }
      ]
    },
    {
      "cell_type": "code",
      "source": [
        "# random num for 3d array\n",
        "arr1 = np.random.randint(2,5, size=(2,3,4))\n",
        "print(arr1)"
      ],
      "metadata": {
        "colab": {
          "base_uri": "https://localhost:8080/"
        },
        "id": "brb0iG5fNQZf",
        "outputId": "49bd0813-ff8f-4f7f-d4b8-eebf1d4c8ac9"
      },
      "execution_count": null,
      "outputs": [
        {
          "output_type": "stream",
          "name": "stdout",
          "text": [
            "[[[3 4 4 2]\n",
            "  [2 4 4 4]\n",
            "  [4 2 2 2]]\n",
            "\n",
            " [[2 3 2 3]\n",
            "  [3 4 3 3]\n",
            "  [4 4 2 3]]]\n"
          ]
        }
      ]
    },
    {
      "cell_type": "markdown",
      "source": [
        "EX1 Q1\n"
      ],
      "metadata": {
        "id": "4MpOspf_PyJc"
      }
    },
    {
      "cell_type": "code",
      "source": [
        "zeroes = np.zeros((4,5))\n",
        "print(zeroes)"
      ],
      "metadata": {
        "colab": {
          "base_uri": "https://localhost:8080/"
        },
        "id": "HCDXO2ArN34g",
        "outputId": "8e0d4dda-4528-4e28-8f46-8c5c3142fbeb"
      },
      "execution_count": null,
      "outputs": [
        {
          "output_type": "stream",
          "name": "stdout",
          "text": [
            "[[0. 0. 0. 0. 0.]\n",
            " [0. 0. 0. 0. 0.]\n",
            " [0. 0. 0. 0. 0.]\n",
            " [0. 0. 0. 0. 0.]]\n"
          ]
        }
      ]
    },
    {
      "cell_type": "markdown",
      "source": [
        "Q2"
      ],
      "metadata": {
        "id": "vYY5b0O5P6BX"
      }
    },
    {
      "cell_type": "code",
      "source": [
        "ones = np.ones((3,6))\n",
        "print(ones)"
      ],
      "metadata": {
        "colab": {
          "base_uri": "https://localhost:8080/"
        },
        "id": "P7XsE4p9P43M",
        "outputId": "c007e309-be61-49b7-f601-2c48d60584d8"
      },
      "execution_count": null,
      "outputs": [
        {
          "output_type": "stream",
          "name": "stdout",
          "text": [
            "[[1. 1. 1. 1. 1. 1.]\n",
            " [1. 1. 1. 1. 1. 1.]\n",
            " [1. 1. 1. 1. 1. 1.]]\n"
          ]
        }
      ]
    },
    {
      "cell_type": "markdown",
      "source": [
        "Q3"
      ],
      "metadata": {
        "id": "uV1ih_TNQAMp"
      }
    },
    {
      "cell_type": "code",
      "source": [
        "# array filled with random float values of dim[2,10]\n",
        "random_arr = np.random.rand(2,10)\n",
        "print(random_arr)"
      ],
      "metadata": {
        "colab": {
          "base_uri": "https://localhost:8080/"
        },
        "id": "PbXp-c_UP_HD",
        "outputId": "c61bd556-532b-425d-c562-b21ba4be0ee6"
      },
      "execution_count": null,
      "outputs": [
        {
          "output_type": "stream",
          "name": "stdout",
          "text": [
            "[[0.72055062 0.8280034  0.17138006 0.42440444 0.37956983 0.34840037\n",
            "  0.60731865 0.24935619 0.12799156 0.08220095]\n",
            " [0.02208747 0.15479518 0.84931519 0.46658684 0.56904753 0.53412862\n",
            "  0.02956837 0.49698726 0.53526837 0.04527002]]\n"
          ]
        }
      ]
    },
    {
      "cell_type": "markdown",
      "source": [
        "Q4"
      ],
      "metadata": {
        "id": "BQXN8K0GQQzO"
      }
    },
    {
      "cell_type": "code",
      "source": [
        "# array filled with random integer values of dim[6,3]\n",
        "rand_arr1 = np.random.randint(2,10, size=(6,3))\n",
        "print(rand_arr1)"
      ],
      "metadata": {
        "colab": {
          "base_uri": "https://localhost:8080/"
        },
        "id": "_nRZfAmHQP1-",
        "outputId": "c673cbf0-a9fa-4480-d7f4-1c5fcda4c4bd"
      },
      "execution_count": null,
      "outputs": [
        {
          "output_type": "stream",
          "name": "stdout",
          "text": [
            "[[9 8 7]\n",
            " [6 3 7]\n",
            " [9 7 2]\n",
            " [8 5 6]\n",
            " [4 5 2]\n",
            " [3 3 4]]\n"
          ]
        }
      ]
    },
    {
      "cell_type": "code",
      "source": [
        "'''\n",
        "Generate a random float values of a gaussian pdf for the dimension (4,5)\n",
        "'''\n",
        "rand_arr2 = np.random.randn(4,5)\n",
        "print(rand_arr2)\n"
      ],
      "metadata": {
        "colab": {
          "base_uri": "https://localhost:8080/"
        },
        "id": "ZTTh3EyZQlDS",
        "outputId": "a712b21f-8280-464c-d0da-25e882473488"
      },
      "execution_count": null,
      "outputs": [
        {
          "output_type": "stream",
          "name": "stdout",
          "text": [
            "[[-0.76378711 -0.03348116  1.22835     1.56257586 -1.02951176]\n",
            " [-0.62681433  0.62670826 -0.37359159 -0.90049616 -0.04025482]\n",
            " [ 0.28510792  1.1550459  -0.3465048  -0.65421543 -0.29675541]\n",
            " [ 0.9167914   1.02266468 -0.24700142 -1.18903244  0.55545929]]\n"
          ]
        }
      ]
    },
    {
      "cell_type": "code",
      "source": [
        "'''Generate random integers in the range of 2 and 22 (inclusive)\n",
        "   for the dimension (4,5) '''\n",
        "\n",
        "rand_arr3 = np.random.randint(2,23, size=(4,5))\n",
        "print(rand_arr3)"
      ],
      "metadata": {
        "colab": {
          "base_uri": "https://localhost:8080/"
        },
        "id": "NrDP8k1SRi9g",
        "outputId": "06b8153e-c4f0-4527-b574-39782a800b50"
      },
      "execution_count": null,
      "outputs": [
        {
          "output_type": "stream",
          "name": "stdout",
          "text": [
            "[[17 11  9  7 16]\n",
            " [ 5 21 15  6 22]\n",
            " [ 8 12 22 20  7]\n",
            " [16 17  6  2 22]]\n"
          ]
        }
      ]
    },
    {
      "cell_type": "code",
      "source": [
        "'''Generate random floating values randn() for the range between\n",
        "   20 to 200 of 1D array (size = 20 ) '''\n",
        "\n",
        "# wrong answer\n",
        "# rand_arr4 = np.random.randint(20,200, size=(20))\n",
        "# print(rand_arr4)\n",
        "\n",
        "# # wrong answer 2\n",
        "# rand_arr4 = np.random.randn(20) * 100 + 20\n",
        "# print(rand_arr4)\n",
        "\n",
        "# my answer\n",
        "rand_arr4 = np.random.rand(20)\n",
        "random_num = np.random.randint(10,100, size=(20))\n",
        "arr5 = np.where(rand_arr4>20, rand_arr4<200, rand_arr4) * 100 + random_num\n",
        "print(arr5)\n",
        "print(rand_arr4)\n",
        "\n",
        "# sir answer\n",
        "rand_arr5 = 20 + (200-20)*np.random.rand(20)\n",
        "print(rand_arr5)"
      ],
      "metadata": {
        "colab": {
          "base_uri": "https://localhost:8080/"
        },
        "id": "9DjBwjnVR8-6",
        "outputId": "f2e2d203-1000-456e-d7c9-8d1c3e9e23a0"
      },
      "execution_count": null,
      "outputs": [
        {
          "output_type": "stream",
          "name": "stdout",
          "text": [
            "[ 50.9768805  164.64551958  26.31548859 112.55302204  80.24303554\n",
            "  92.98901057  38.99850097 129.19064946 111.47147361 144.13298371\n",
            "  91.99345276 130.84569081 123.73710193 109.50725199  61.52623721\n",
            "  96.20281092 149.84665543 106.16796163  84.18362926  52.67859034]\n",
            "[0.06976881 0.6864552  0.14315489 0.59553022 0.11243036 0.02989011\n",
            " 0.07998501 0.87190649 0.25471474 0.69132984 0.53993453 0.93845691\n",
            " 0.34737102 0.55507252 0.33526237 0.14202811 0.62846655 0.26167962\n",
            " 0.50183629 0.1467859 ]\n",
            "[ 20.3311505   79.00071222 112.0937989   98.75162679  40.6958389\n",
            " 155.09258608  96.81612116  37.85191589 194.17675639 120.31441858\n",
            " 115.73943199  87.86493164  48.12725449  26.97265077  60.04137601\n",
            "  21.20555823 183.02759044  81.3917814  138.3766025   90.81206786]\n"
          ]
        }
      ]
    },
    {
      "cell_type": "markdown",
      "source": [
        "matrices addition"
      ],
      "metadata": {
        "id": "jiuj3gcwfuV3"
      }
    },
    {
      "cell_type": "code",
      "source": [
        "a = np.array([1,2,3,4])\n",
        "b = np.array([5,6,7,8])\n",
        "print(a+b)\n",
        "print(a-b)\n",
        "print(a*b)\n",
        "print(a/b)"
      ],
      "metadata": {
        "colab": {
          "base_uri": "https://localhost:8080/"
        },
        "id": "Q1BselGhSdTu",
        "outputId": "40d11506-1fcb-4801-e687-d28f59eaf58e"
      },
      "execution_count": null,
      "outputs": [
        {
          "output_type": "stream",
          "name": "stdout",
          "text": [
            "[ 6  8 10 12]\n",
            "[-4 -4 -4 -4]\n",
            "[ 5 12 21 32]\n",
            "[0.2        0.33333333 0.42857143 0.5       ]\n"
          ]
        }
      ]
    },
    {
      "cell_type": "code",
      "source": [
        "# Problem Statement\n",
        "'''1> create a 2d array\n",
        "   2> add the scalar value 10 to each element of arr (using broadcasting)\n",
        "   3> add the array [10,20,30] to arr (using broadcastiing) '''\n",
        "\n",
        "Qarr = np.array([[2,3,4],[5,6,7]])\n",
        "print( \"real array \\n\",Qarr)\n",
        "print(\"addition of 10 \\n\",10 + Qarr)\n",
        "arr = np.array([10,20,30])\n",
        "print(\"addition of another array \",arr + Qarr)"
      ],
      "metadata": {
        "colab": {
          "base_uri": "https://localhost:8080/"
        },
        "id": "T49IWz7Uf9Fm",
        "outputId": "12239cba-92f1-4a1d-bf82-51e3349c1581"
      },
      "execution_count": null,
      "outputs": [
        {
          "output_type": "stream",
          "name": "stdout",
          "text": [
            "real array \n",
            " [[2 3 4]\n",
            " [5 6 7]]\n",
            "addition of 10 \n",
            " [[12 13 14]\n",
            " [15 16 17]]\n",
            "addition of another array  [[12 23 34]\n",
            " [15 26 37]]\n"
          ]
        }
      ]
    },
    {
      "cell_type": "code",
      "source": [
        "# upcating\n",
        "import numpy as np\n",
        "list1 = [1,2,3,4]\n",
        "data = np.array(list1)\n",
        "print((data.dtype))\n"
      ],
      "metadata": {
        "id": "WJBa5xUNih8G",
        "colab": {
          "base_uri": "https://localhost:8080/"
        },
        "outputId": "d1567efd-8aeb-47e1-aa3b-161b14a03ec7"
      },
      "execution_count": 3,
      "outputs": [
        {
          "output_type": "stream",
          "name": "stdout",
          "text": [
            "int64\n"
          ]
        }
      ]
    },
    {
      "cell_type": "code",
      "source": [],
      "metadata": {
        "id": "mhRsMOwci5QX"
      },
      "execution_count": null,
      "outputs": []
    }
  ]
}