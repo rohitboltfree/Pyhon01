{
  "nbformat": 4,
  "nbformat_minor": 0,
  "metadata": {
    "colab": {
      "provenance": [],
      "authorship_tag": "ABX9TyONMfB9WR6lITD4dynkn3hX",
      "include_colab_link": true
    },
    "kernelspec": {
      "name": "python3",
      "display_name": "Python 3"
    },
    "language_info": {
      "name": "python"
    }
  },
  "cells": [
    {
      "cell_type": "markdown",
      "metadata": {
        "id": "view-in-github",
        "colab_type": "text"
      },
      "source": [
        "<a href=\"https://colab.research.google.com/github/rohitboltfree/Pyhon01/blob/main/string_%26_print_.ipynb\" target=\"_parent\"><img src=\"https://colab.research.google.com/assets/colab-badge.svg\" alt=\"Open In Colab\"/></a>"
      ]
    },
    {
      "cell_type": "code",
      "source": [
        "text = \"Hello world! Welcome to the world of Python.\"\n",
        "# sub = num[2:6]\n",
        "# print(sub)\n",
        "\n",
        "print(text.replace(\"Hello\",\"welcome\" ))\n",
        "print(text.find(\"to\"))\n",
        "print(text.endswith(\"on.\"))"
      ],
      "metadata": {
        "id": "dBrUDP2lbDM0",
        "colab": {
          "base_uri": "https://localhost:8080/"
        },
        "outputId": "257a6288-59e5-4220-c7c6-88380ac24b46"
      },
      "execution_count": null,
      "outputs": [
        {
          "output_type": "stream",
          "name": "stdout",
          "text": [
            "welcome world! Welcome to the world of Python.\n",
            "21\n",
            "True\n"
          ]
        }
      ]
    },
    {
      "cell_type": "code",
      "source": [
        "def real(x,a,b,c) :\n",
        "  return a*x**2 + b*x + c\n",
        "# Example usage:\n",
        "x_value = 12\n",
        "a = 1  # Coefficient of x^2\n",
        "b = -2  # Coefficient of x\n",
        "c = 1  # Constant term\n",
        "y_value = real(x_value, a, b, c)\n",
        "print(f\"For x = {x_value}, y = {y_value}\")"
      ],
      "metadata": {
        "colab": {
          "base_uri": "https://localhost:8080/"
        },
        "id": "S_Hh5okDKK3g",
        "outputId": "925f858e-1bbb-4c03-9705-295692b892ea"
      },
      "execution_count": null,
      "outputs": [
        {
          "output_type": "stream",
          "name": "stdout",
          "text": [
            "For x = 12, y = 121\n"
          ]
        }
      ]
    },
    {
      "cell_type": "code",
      "source": [
        "print('The value of PI is %10.3f' % 322.1417)"
      ],
      "metadata": {
        "colab": {
          "base_uri": "https://localhost:8080/"
        },
        "id": "9FaM4tTeNztQ",
        "outputId": "3b2e3082-ff47-457a-a998-114a356b3577"
      },
      "execution_count": null,
      "outputs": [
        {
          "output_type": "stream",
          "name": "stdout",
          "text": [
            "The value of PI is    322.142\n"
          ]
        }
      ]
    },
    {
      "cell_type": "code",
      "source": [
        "# example of field width\n",
        "print(\"%23.1f\" %(4.5*5.4))"
      ],
      "metadata": {
        "colab": {
          "base_uri": "https://localhost:8080/"
        },
        "id": "PS22CO_SS_aZ",
        "outputId": "0d0d4599-d399-4c03-b564-2541b20be505"
      },
      "execution_count": null,
      "outputs": [
        {
          "output_type": "stream",
          "name": "stdout",
          "text": [
            "                   24.3\n"
          ]
        }
      ]
    },
    {
      "cell_type": "code",
      "source": [
        "# using simply\n",
        "print(\"*\")\n",
        "print(\"**\")\n",
        "print(\"***\")\n",
        "print(\"****\")\n",
        "print(\"*****\")\n",
        "\n",
        "# using one print words\n",
        "print(\"*\\n**\\n\")\n"
      ],
      "metadata": {
        "colab": {
          "base_uri": "https://localhost:8080/"
        },
        "id": "YX4XdKkIUd1Z",
        "outputId": "55a8bfe3-1783-4724-ffb0-4f5864f8566d"
      },
      "execution_count": null,
      "outputs": [
        {
          "output_type": "stream",
          "name": "stdout",
          "text": [
            "*\n",
            "**\n",
            "***\n",
            "****\n",
            "*****\n",
            "*\n",
            "**\n",
            "\n"
          ]
        }
      ]
    },
    {
      "cell_type": "code",
      "source": [
        "# by using for loop\n",
        "row = 5\n",
        "for i in range(1, row + 1):\n",
        "  print(\"*\" * i)\n"
      ],
      "metadata": {
        "colab": {
          "base_uri": "https://localhost:8080/"
        },
        "id": "WLu0TDryWlWv",
        "outputId": "39182526-2a39-4d0c-f959-397e40a656ec"
      },
      "execution_count": null,
      "outputs": [
        {
          "output_type": "stream",
          "name": "stdout",
          "text": [
            "*\n",
            "**\n",
            "***\n",
            "****\n",
            "*****\n"
          ]
        }
      ]
    },
    {
      "cell_type": "code",
      "source": [
        "\"\"\" [::-1] is a special slicing syntax that means\n",
        " \"start from the beginning, go to the end,\n",
        "  and step backwards by 1\". This effectively\n",
        "   reverses the string.\n",
        "\"\"\"\n",
        "text = input(\"Enter a string: \")\n",
        "print(text[::-1])"
      ],
      "metadata": {
        "colab": {
          "base_uri": "https://localhost:8080/"
        },
        "id": "uSeH1lZrah7b",
        "outputId": "87542ea9-8159-4d00-9527-e557b9ef700c"
      },
      "execution_count": null,
      "outputs": [
        {
          "output_type": "stream",
          "name": "stdout",
          "text": [
            "Enter a string: tennet\n",
            "tennet\n"
          ]
        }
      ]
    },
    {
      "cell_type": "code",
      "source": [
        "# logical operators\n",
        "\n",
        "a =10\n",
        "b=20\n",
        "c=14\n",
        "d=12\n",
        "\n",
        "#simple method to find the min value using min OR and AND\n",
        "min1 = a<d<c<b\n",
        "min2  = b<a<c<d\n",
        "min3 = c<d<a<b\n",
        "min4 = d<a<b<c\n",
        "print(min1)\n",
        "print(min2)\n",
        "print(min3)\n",
        "print(min4)\n",
        "\n",
        "num = (min1 * a) + (min2 * b) + (min3 * c) + (min4 * d)\n",
        "not(num)\n",
        "print(num)\n",
        "print(\"num\",num)\n",
        "\n",
        "\n",
        "# #using min or max\n",
        "# print(min(a,b,c,d))\n",
        "# print(max(a,b,c,d))\n",
        "\n",
        "# #now we have to us logical operator\n",
        "# print(a<b and b<c and c<d)\n",
        "# #create the code for to tell the smallest no\n",
        "# print(min(a,b,c,d))\n",
        "\n",
        "\n"
      ],
      "metadata": {
        "colab": {
          "base_uri": "https://localhost:8080/"
        },
        "id": "ok-a91l4bY1q",
        "outputId": "1a12e242-e7a3-4611-8d6d-7983375e3473"
      },
      "execution_count": 9,
      "outputs": [
        {
          "output_type": "stream",
          "name": "stdout",
          "text": [
            "True\n",
            "False\n",
            "False\n",
            "False\n",
            "10\n",
            "num 10\n"
          ]
        }
      ]
    },
    {
      "cell_type": "code",
      "source": [
        "# bitwise operators\n",
        "a= 1100\n",
        "b=1010\n",
        "print(a or b)\n",
        "\n"
      ],
      "metadata": {
        "id": "lyOsojZ1h0SA"
      },
      "execution_count": 15,
      "outputs": []
    },
    {
      "cell_type": "code",
      "source": [
        "#  bin(0b1100 | 0b1010)"
      ],
      "metadata": {
        "colab": {
          "base_uri": "https://localhost:8080/",
          "height": 36
        },
        "id": "L-I777mwkkAr",
        "outputId": "8f423d76-88e1-471a-cbf5-c3cd7e554e12"
      },
      "execution_count": 18,
      "outputs": [
        {
          "output_type": "execute_result",
          "data": {
            "text/plain": [
              "'0b1110'"
            ],
            "application/vnd.google.colaboratory.intrinsic+json": {
              "type": "string"
            }
          },
          "metadata": {},
          "execution_count": 18
        }
      ]
    },
    {
      "cell_type": "code",
      "source": [
        "# two no. a&[(a|b)>>31]\n",
        "a1 = 10\n",
        "b1 = 20\n",
        "print(a1 & ((a1 | b1) >> 31 ))\n",
        "\n"
      ],
      "metadata": {
        "colab": {
          "base_uri": "https://localhost:8080/"
        },
        "id": "Lqll2t_Zk26i",
        "outputId": "5dbadc42-f0ba-4e29-b2eb-d1752d8a23fe"
      },
      "execution_count": 25,
      "outputs": [
        {
          "output_type": "stream",
          "name": "stdout",
          "text": [
            "0\n"
          ]
        }
      ]
    },
    {
      "cell_type": "code",
      "source": [],
      "metadata": {
        "id": "ThTyGA_cmHmX"
      },
      "execution_count": null,
      "outputs": []
    }
  ]
}