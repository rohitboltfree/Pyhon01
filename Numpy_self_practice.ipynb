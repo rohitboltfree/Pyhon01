{
  "cells": [
    {
      "cell_type": "markdown",
      "metadata": {
        "id": "view-in-github",
        "colab_type": "text"
      },
      "source": [
        "<a href=\"https://colab.research.google.com/github/rohitboltfree/Pyhon01/blob/main/Numpy_self_practice.ipynb\" target=\"_parent\"><img src=\"https://colab.research.google.com/assets/colab-badge.svg\" alt=\"Open In Colab\"/></a>"
      ]
    },
    {
      "cell_type": "code",
      "execution_count": null,
      "metadata": {
        "colab": {
          "base_uri": "https://localhost:8080/"
        },
        "id": "m1yuF8-qcAH7",
        "outputId": "de2436c1-d589-4130-9f25-511447f7a4d7"
      },
      "outputs": [
        {
          "name": "stdout",
          "output_type": "stream",
          "text": [
            "enter your starting no.2\n",
            "enter your ending no.10\n",
            "not prime\n",
            "not prime\n"
          ]
        }
      ],
      "source": [
        "startingNo =eval(input('enter your starting no.'))\n",
        "endingNo= eval(input('enter your ending no.'))\n",
        "\n",
        "# for i in range(startingNo,endingNo):\n",
        "#     if(endingNo % i==0):\n",
        "#         print('not prime')\n",
        "#     # else:\n",
        "#     #     print(i,'prime')"
      ]
    },
    {
      "cell_type": "code",
      "execution_count": null,
      "metadata": {
        "colab": {
          "base_uri": "https://localhost:8080/"
        },
        "id": "0qzeJ2EMdQ2L",
        "outputId": "42d31d7e-d1ec-4778-e231-99e741475105"
      },
      "outputs": [
        {
          "name": "stdout",
          "output_type": "stream",
          "text": [
            "enter the datar\n",
            "enter quit when you want to quitw\n"
          ]
        }
      ],
      "source": [
        "file = open('data.txt','w')\n",
        "user = input('enter the data')\n",
        "file.write(user)\n",
        "file.close()\n"
      ]
    },
    {
      "cell_type": "code",
      "execution_count": null,
      "metadata": {
        "colab": {
          "base_uri": "https://localhost:8080/"
        },
        "id": "VNOZM1hR7hxT",
        "outputId": "e45e04da-3138-4b30-d218-e01defb21df1"
      },
      "outputs": [
        {
          "name": "stdout",
          "output_type": "stream",
          "text": [
            "Enter something (type 'quit' to stop): r\n",
            "Enter something (type 'quit' to stop): o\n",
            "Enter something (type 'quit' to stop): h\n",
            "Enter something (type 'quit' to stop): i\n",
            "Enter something (type 'quit' to stop): t\n",
            "Enter something (type 'quit' to stop): quit\n",
            "Exiting...\n",
            "Your inputs have been saved to 'user_input.txt'.\n"
          ]
        }
      ],
      "source": [
        "# Open the file in append mode\n",
        "with open('user_input.txt', 'a') as file:\n",
        "    while True:\n",
        "        # Ask the user for input\n",
        "        user_input = input(\"Enter something (type 'quit' to stop): \")\n",
        "\n",
        "        # If the user types 'quit', break the loop\n",
        "        if user_input.lower() == 'quit':\n",
        "            print(\"Exiting...\")  # Optional message to inform user of exit\n",
        "            break\n",
        "\n",
        "        # Write the input to the file\n",
        "        file.write(user_input + '\\n')\n",
        "\n",
        "print(\"Your inputs have been saved to 'user_input.txt'.\")\n"
      ]
    },
    {
      "cell_type": "code",
      "execution_count": null,
      "metadata": {
        "colab": {
          "base_uri": "https://localhost:8080/"
        },
        "id": "qWStwXW1AYzm",
        "outputId": "f3b9a29c-8ef1-43ce-c368-9b25828cd361"
      },
      "outputs": [
        {
          "name": "stdout",
          "output_type": "stream",
          "text": [
            "rohtika dostr\n"
          ]
        }
      ],
      "source": [
        "file = open('data.txt','r')\n",
        "print(file.read())\n",
        "file.close()"
      ]
    },
    {
      "cell_type": "code",
      "execution_count": null,
      "metadata": {
        "colab": {
          "base_uri": "https://localhost:8080/",
          "height": 183
        },
        "id": "dQO-y2MqDtAx",
        "outputId": "5ca34457-a8e1-43d4-8338-7f474c6d6e22"
      },
      "outputs": [
        {
          "ename": "NameError",
          "evalue": "name 'random' is not defined",
          "output_type": "error",
          "traceback": [
            "\u001b[0;31m---------------------------------------------------------------------------\u001b[0m",
            "\u001b[0;31mNameError\u001b[0m                                 Traceback (most recent call last)",
            "\u001b[0;32m<ipython-input-1-4dbf8e02e856>\u001b[0m in \u001b[0;36m<cell line: 0>\u001b[0;34m()\u001b[0m\n\u001b[1;32m      1\u001b[0m \u001b[0;31m# create a gasing game\u001b[0m\u001b[0;34m\u001b[0m\u001b[0;34m\u001b[0m\u001b[0m\n\u001b[0;32m----> 2\u001b[0;31m \u001b[0mrandom\u001b[0m\u001b[0;34m.\u001b[0m\u001b[0mrandint\u001b[0m\u001b[0;34m(\u001b[0m\u001b[0;36m1\u001b[0m\u001b[0;34m,\u001b[0m\u001b[0;36m10\u001b[0m\u001b[0;34m)\u001b[0m\u001b[0;34m\u001b[0m\u001b[0;34m\u001b[0m\u001b[0m\n\u001b[0m\u001b[1;32m      3\u001b[0m \u001b[0mgame\u001b[0m \u001b[0;34m=\u001b[0m \u001b[0minput\u001b[0m\u001b[0;34m(\u001b[0m\u001b[0;34m'guess the no.'\u001b[0m\u001b[0;34m)\u001b[0m\u001b[0;34m\u001b[0m\u001b[0;34m\u001b[0m\u001b[0m\n",
            "\u001b[0;31mNameError\u001b[0m: name 'random' is not defined"
          ]
        }
      ],
      "source": [
        "# create a gasing game\n",
        "# random.randint(1,10)\n",
        "game = input('guess the no.')\n"
      ]
    },
    {
      "cell_type": "code",
      "execution_count": null,
      "metadata": {
        "colab": {
          "base_uri": "https://localhost:8080/"
        },
        "id": "hs75LAumeLSR",
        "outputId": "a81611de-8945-4051-9b66-e0ab82031ee2"
      },
      "outputs": [
        {
          "name": "stdout",
          "output_type": "stream",
          "text": [
            "Enter any no. i will tell you if it is a palindrome no or not \t 45654\n",
            "palindrome\n"
          ]
        }
      ],
      "source": [
        "# palindrome number\n",
        "num = input('Enter any no. i will tell you if it is a palindrome no or not \\t ')\n",
        "\n",
        "if num == num[::-1]:\n",
        "    print('palindrome')\n",
        "else:\n",
        "    print('not palindrome')"
      ]
    },
    {
      "cell_type": "code",
      "execution_count": null,
      "metadata": {
        "colab": {
          "base_uri": "https://localhost:8080/"
        },
        "id": "GFORQ13gssJy",
        "outputId": "07364635-6785-406d-d6d0-62aecc7f54ef"
      },
      "outputs": [
        {
          "name": "stdout",
          "output_type": "stream",
          "text": [
            "<class 'float'>\n",
            "<class 'str'>\n",
            "rohitkumar\n",
            "9\n",
            "ROHIT\n"
          ]
        }
      ],
      "source": [
        " import math\n",
        "# data types practice\n",
        "# module how to use it just use import <module_name> top of the program\n",
        "\n",
        "math.sqrt(25)\n",
        "a=2.555\n",
        "print(type(a))\n",
        "\n",
        "rohit = 'rohit'\n",
        "print(type(rohit))\n",
        "\n",
        "kumar='kumar'\n",
        "print(rohit+kumar)\n",
        "\n",
        "a = \"Hello, world!\"\n",
        "index = a.find('r')\n",
        "print(index)  # Output: 8\n",
        "\n",
        "print(rohit.upper())\n",
        "\n"
      ]
    },
    {
      "cell_type": "code",
      "execution_count": null,
      "metadata": {
        "id": "GoUgm-k52hRz"
      },
      "outputs": [],
      "source": [
        "# data types : 1 numbers:[integers,long,float,double]\n",
        "# 2 String:[with the help of this we can asign the comment to the variable ]\n",
        "# also used for concatination\n",
        "\n"
      ]
    },
    {
      "cell_type": "code",
      "execution_count": null,
      "metadata": {
        "id": "jcxm5vLM3glz"
      },
      "outputs": [],
      "source": [
        "# create a pasword generator\n",
        "import random\n",
        "import string\n",
        "\n",
        "easy_pass = string.ascii_uppercase + string.ascii_lowercase\n",
        "medium_pass = easy_pass + string.digits\n",
        "hard_pass = medium_pass + string.punctuation\n",
        "\n",
        "set_password = input('enter your password level')\n",
        "set_passwrod = True\n",
        "\n",
        "while set_passwrod:\n",
        "  if(set_password == 'easy'):\n",
        "    password = ''.join(random.choice(easy_pass) for i in range(8))\n",
        "    print(password)\n",
        "  elif(set_password == 'medium'):\n",
        "    password = ''.join(random.choice(medium_pass) for i in range(8))\n",
        "    print(password)\n",
        "  elif(set_password == 'hard'):\n",
        "    password = ''.join(random.choice(hard_pass) for i in range(8))\n",
        "    print(password)\n",
        "  else:\n",
        "    print('enter a valid password')\n",
        "\n",
        "\n"
      ]
    },
    {
      "cell_type": "code",
      "execution_count": null,
      "metadata": {
        "id": "ap576jSM790z",
        "colab": {
          "base_uri": "https://localhost:8080/"
        },
        "outputId": "f6a61b5e-4231-40d4-a16a-b376316bf6a9"
      },
      "outputs": [
        {
          "output_type": "stream",
          "name": "stdout",
          "text": [
            "paragraph : 2\n",
            "sentences : 9\n",
            "words : 150\n",
            "characters : 984\n"
          ]
        }
      ],
      "source": [
        "# create a program to determine the no. of letters,words and sentences and paragraphs are present\n",
        "\n",
        "file = open('paragraph_text.txt','r')\n",
        "text = file.read()\n",
        "file.close()\n",
        "\n",
        "paragraph= text.split('\\n\\n')\n",
        "sentences= text.split('.')\n",
        "words = text.split()\n",
        "characters = list(text)\n",
        "\n",
        "print('paragraph :',len(paragraph))\n",
        "print('sentences :',len(sentences))\n",
        "print('words :',len(words))\n",
        "print('characters :',len(characters))\n",
        "\n",
        "\n"
      ]
    },
    {
      "cell_type": "code",
      "source": [
        "# create a random symmetric matrix\n",
        "import random\n",
        "\n",
        "rows=int(input('enter the no. of rows'))\n",
        "columns=int(input('enter the no. of columns'))\n",
        "\n",
        "\n",
        "matrix = [[0 for _ in range(rows) ] for _ in range(columns)]\n",
        "\n",
        "\n",
        "\n",
        "# # random_matrix = [[0 for i in range(columns)] for j in range(rows)]\n",
        "\n",
        "# random_matrix = random.randint(1,10)\n",
        "\n",
        "# for i in range(rows):\n",
        "#     for j in range(columns):\n",
        "#         print(random_matrix[i][j])\n",
        "#     print(row)\n",
        "\n",
        "# # random_matrix = [[random.randint(1,10) for i in range(columns)] for j in range(rows)]\n",
        "\n",
        "# # for row in random_matrix:\n",
        "# #     print(row)\n"
      ],
      "metadata": {
        "colab": {
          "base_uri": "https://localhost:8080/",
          "height": 245
        },
        "id": "uLHz19wcGuNM",
        "outputId": "4df06db2-3c12-4444-fd59-fa1afc9ea3b6"
      },
      "execution_count": null,
      "outputs": [
        {
          "name": "stdout",
          "output_type": "stream",
          "text": [
            "enter the no. of rows3\n",
            "enter the no. of columns3\n"
          ]
        },
        {
          "output_type": "error",
          "ename": "TypeError",
          "evalue": "'int' object is not subscriptable",
          "traceback": [
            "\u001b[0;31m---------------------------------------------------------------------------\u001b[0m",
            "\u001b[0;31mTypeError\u001b[0m                                 Traceback (most recent call last)",
            "\u001b[0;32m<ipython-input-12-f09da58357dc>\u001b[0m in \u001b[0;36m<cell line: 0>\u001b[0;34m()\u001b[0m\n\u001b[1;32m     11\u001b[0m \u001b[0;32mfor\u001b[0m \u001b[0mi\u001b[0m \u001b[0;32min\u001b[0m \u001b[0mrange\u001b[0m\u001b[0;34m(\u001b[0m\u001b[0mrows\u001b[0m\u001b[0;34m)\u001b[0m\u001b[0;34m:\u001b[0m\u001b[0;34m\u001b[0m\u001b[0;34m\u001b[0m\u001b[0m\n\u001b[1;32m     12\u001b[0m     \u001b[0;32mfor\u001b[0m \u001b[0mj\u001b[0m \u001b[0;32min\u001b[0m \u001b[0mrange\u001b[0m\u001b[0;34m(\u001b[0m\u001b[0mcolumns\u001b[0m\u001b[0;34m)\u001b[0m\u001b[0;34m:\u001b[0m\u001b[0;34m\u001b[0m\u001b[0;34m\u001b[0m\u001b[0m\n\u001b[0;32m---> 13\u001b[0;31m         \u001b[0mprint\u001b[0m\u001b[0;34m(\u001b[0m\u001b[0mrandom_matrix\u001b[0m\u001b[0;34m[\u001b[0m\u001b[0mi\u001b[0m\u001b[0;34m]\u001b[0m\u001b[0;34m[\u001b[0m\u001b[0mj\u001b[0m\u001b[0;34m]\u001b[0m\u001b[0;34m)\u001b[0m\u001b[0;34m\u001b[0m\u001b[0;34m\u001b[0m\u001b[0m\n\u001b[0m\u001b[1;32m     14\u001b[0m     \u001b[0mprint\u001b[0m\u001b[0;34m(\u001b[0m\u001b[0mrow\u001b[0m\u001b[0;34m)\u001b[0m\u001b[0;34m\u001b[0m\u001b[0;34m\u001b[0m\u001b[0m\n\u001b[1;32m     15\u001b[0m \u001b[0;34m\u001b[0m\u001b[0m\n",
            "\u001b[0;31mTypeError\u001b[0m: 'int' object is not subscriptable"
          ]
        }
      ]
    },
    {
      "cell_type": "code",
      "source": [
        "my = [1,2,3]\n",
        "print(my[1])"
      ],
      "metadata": {
        "id": "62-VTTiFNANk",
        "colab": {
          "base_uri": "https://localhost:8080/"
        },
        "outputId": "85a9fc4c-0a41-4411-9adb-a9f2571afaca"
      },
      "execution_count": null,
      "outputs": [
        {
          "output_type": "stream",
          "name": "stdout",
          "text": [
            "2\n"
          ]
        }
      ]
    },
    {
      "cell_type": "code",
      "source": [
        "my_dist = {'name':'rohit','age':20}\n",
        "print(my_dist.get('city','Unknown'))\n"
      ],
      "metadata": {
        "colab": {
          "base_uri": "https://localhost:8080/"
        },
        "id": "v47gMM27gS-P",
        "outputId": "9949e48a-7d57-4810-a59c-e7b7c25a299d"
      },
      "execution_count": null,
      "outputs": [
        {
          "output_type": "stream",
          "name": "stdout",
          "text": [
            "Unknown\n"
          ]
        }
      ]
    },
    {
      "cell_type": "code",
      "source": [
        "# Define matrices A and B with compatible dimensions\n",
        "A = [[1, 2, 3], [4, 5, 6]]\n",
        "B = [[7, 8], [9, 10], [11, 12]]\n",
        "\n",
        "# Get the number of rows and columns\n",
        "rows_A = len(A)\n",
        "columns_A = len(A[0])\n",
        "rows_B = len(B)\n",
        "columns_B = len(B[0])\n",
        "\n",
        "# Ensure that the number of columns in A is equal to the number of rows in B\n",
        "if columns_A != rows_B:\n",
        "    print(\"Matrices A and B cannot be multiplied due to incompatible dimensions.\")\n",
        "else:\n",
        "    # Initialize the result matrix with zeros\n",
        "    mul_AB = [[0 for _ in range(columns_B)] for _ in range(rows_A)]\n",
        "\n",
        "    # Perform matrix multiplication\n",
        "    for i in range(rows_A):\n",
        "        for j in range(columns_B):\n",
        "            for k in range(columns_A):\n",
        "                mul_AB[i][j] += A[i][k] * B[k][j]\n",
        "\n",
        "    # Print the result matrix\n",
        "    print(\"Matrix A:\")\n",
        "    for row in A:\n",
        "        print(row)\n",
        "\n",
        "    print(\"\\nMatrix B:\")\n",
        "    for row in B:\n",
        "        print(row)\n",
        "\n",
        "    print(\"\\nResult of multiplication (A x B):\")\n",
        "    for row in mul_AB:\n",
        "        print(row)\n"
      ],
      "metadata": {
        "id": "ATjjL4ukgdga",
        "colab": {
          "base_uri": "https://localhost:8080/"
        },
        "outputId": "451e5ec6-53e1-4978-a98e-69cdd6060a3f"
      },
      "execution_count": null,
      "outputs": [
        {
          "output_type": "stream",
          "name": "stdout",
          "text": [
            "Matrix A:\n",
            "[1, 2, 3]\n",
            "[4, 5, 6]\n",
            "\n",
            "Matrix B:\n",
            "[7, 8]\n",
            "[9, 10]\n",
            "[11, 12]\n",
            "\n",
            "Result of multiplication (A x B):\n",
            "[58, 64]\n",
            "[139, 154]\n"
          ]
        }
      ]
    },
    {
      "cell_type": "code",
      "source": [
        "class Dholakpur:\n",
        "  dholu='kalia_friend'\n",
        "  bholu=\"dholu's friend\"\n",
        "\n",
        "  def chotabheem(self):\n",
        "    print('I am Dholu',self.dholu)\n",
        "\n",
        "Laddu = Dholakpur()\n",
        "print(Laddu.bholu)\n",
        "print(Laddu.dholu)\n",
        "Laddu.chotabheem()\n"
      ],
      "metadata": {
        "id": "oma7FxYTKYdn",
        "colab": {
          "base_uri": "https://localhost:8080/"
        },
        "outputId": "5f6f1234-270c-40f4-f567-959d5c84dfd7"
      },
      "execution_count": null,
      "outputs": [
        {
          "output_type": "stream",
          "name": "stdout",
          "text": [
            "dholu's friend\n",
            "kalia_friend\n",
            "I am Dholu kalia_friend\n"
          ]
        }
      ]
    },
    {
      "cell_type": "code",
      "source": [
        "class IPL:\n",
        "  def __init__(self,team,state):\n",
        "     self.team = team\n",
        "     self.state = state\n",
        "\n",
        "  def display_team(self):\n",
        "    print('Team name', self.state)\n",
        "    print('State',self.state)\n",
        "\n",
        "himashu = IPL(\"csk\",\"chennai\")\n",
        "sid = IPL(\"mi\",\"mumbai\")\n",
        "\n",
        "himashu.display_team()\n",
        "sid.display_team()\n",
        "himashu.display_team()\n",
        "\n"
      ],
      "metadata": {
        "colab": {
          "base_uri": "https://localhost:8080/"
        },
        "id": "AS75-Jfw2_Oz",
        "outputId": "a7be0b9c-00e7-4fd7-d5f9-454aabd010aa"
      },
      "execution_count": null,
      "outputs": [
        {
          "output_type": "stream",
          "name": "stdout",
          "text": [
            "Team name chennai\n",
            "State chennai\n",
            "Team name mumbai\n",
            "State mumbai\n",
            "Team name chennai\n",
            "State chennai\n"
          ]
        }
      ]
    },
    {
      "cell_type": "code",
      "source": [
        "def great(name='guest'):\n",
        "  print('h',name)\n",
        "\n",
        "\n",
        "great()"
      ],
      "metadata": {
        "id": "XwHxcGfp9WTM",
        "colab": {
          "base_uri": "https://localhost:8080/"
        },
        "outputId": "faac0047-80f8-4804-efb5-7957078c5e3b"
      },
      "execution_count": null,
      "outputs": [
        {
          "output_type": "stream",
          "name": "stdout",
          "text": [
            "h guest\n"
          ]
        }
      ]
    },
    {
      "cell_type": "code",
      "source": [
        "! pip install numpy"
      ],
      "metadata": {
        "id": "uPHJY3PHG4ll",
        "colab": {
          "base_uri": "https://localhost:8080/"
        },
        "outputId": "10269349-e7fa-4a3e-9228-63930b7ad862"
      },
      "execution_count": null,
      "outputs": [
        {
          "output_type": "stream",
          "name": "stdout",
          "text": [
            "Requirement already satisfied: numpy in /usr/local/lib/python3.11/dist-packages (2.0.2)\n"
          ]
        }
      ]
    },
    {
      "cell_type": "code",
      "source": [
        "import numpy as np\n",
        "\n",
        "print(np.__doc__)"
      ],
      "metadata": {
        "colab": {
          "base_uri": "https://localhost:8080/"
        },
        "id": "jYg8FZAh6OoQ",
        "outputId": "66691920-a65a-4a78-a8b1-da9c2c942649"
      },
      "execution_count": null,
      "outputs": [
        {
          "output_type": "stream",
          "name": "stdout",
          "text": [
            "\n",
            "NumPy\n",
            "=====\n",
            "\n",
            "Provides\n",
            "  1. An array object of arbitrary homogeneous items\n",
            "  2. Fast mathematical operations over arrays\n",
            "  3. Linear Algebra, Fourier Transforms, Random Number Generation\n",
            "\n",
            "How to use the documentation\n",
            "----------------------------\n",
            "Documentation is available in two forms: docstrings provided\n",
            "with the code, and a loose standing reference guide, available from\n",
            "`the NumPy homepage <https://numpy.org>`_.\n",
            "\n",
            "We recommend exploring the docstrings using\n",
            "`IPython <https://ipython.org>`_, an advanced Python shell with\n",
            "TAB-completion and introspection capabilities.  See below for further\n",
            "instructions.\n",
            "\n",
            "The docstring examples assume that `numpy` has been imported as ``np``::\n",
            "\n",
            "  >>> import numpy as np\n",
            "\n",
            "Code snippets are indicated by three greater-than signs::\n",
            "\n",
            "  >>> x = 42\n",
            "  >>> x = x + 1\n",
            "\n",
            "Use the built-in ``help`` function to view a function's docstring::\n",
            "\n",
            "  >>> help(np.sort)\n",
            "  ... # doctest: +SKIP\n",
            "\n",
            "For some objects, ``np.info(obj)`` may provide additional help.  This is\n",
            "particularly true if you see the line \"Help on ufunc object:\" at the top\n",
            "of the help() page.  Ufuncs are implemented in C, not Python, for speed.\n",
            "The native Python help() does not know how to view their help, but our\n",
            "np.info() function does.\n",
            "\n",
            "Available subpackages\n",
            "---------------------\n",
            "lib\n",
            "    Basic functions used by several sub-packages.\n",
            "random\n",
            "    Core Random Tools\n",
            "linalg\n",
            "    Core Linear Algebra Tools\n",
            "fft\n",
            "    Core FFT routines\n",
            "polynomial\n",
            "    Polynomial tools\n",
            "testing\n",
            "    NumPy testing tools\n",
            "distutils\n",
            "    Enhancements to distutils with support for\n",
            "    Fortran compilers support and more (for Python <= 3.11)\n",
            "\n",
            "Utilities\n",
            "---------\n",
            "test\n",
            "    Run numpy unittests\n",
            "show_config\n",
            "    Show numpy build configuration\n",
            "__version__\n",
            "    NumPy version string\n",
            "\n",
            "Viewing documentation using IPython\n",
            "-----------------------------------\n",
            "\n",
            "Start IPython and import `numpy` usually under the alias ``np``: `import\n",
            "numpy as np`.  Then, directly past or use the ``%cpaste`` magic to paste\n",
            "examples into the shell.  To see which functions are available in `numpy`,\n",
            "type ``np.<TAB>`` (where ``<TAB>`` refers to the TAB key), or use\n",
            "``np.*cos*?<ENTER>`` (where ``<ENTER>`` refers to the ENTER key) to narrow\n",
            "down the list.  To view the docstring for a function, use\n",
            "``np.cos?<ENTER>`` (to view the docstring) and ``np.cos??<ENTER>`` (to view\n",
            "the source code).\n",
            "\n",
            "Copies vs. in-place operation\n",
            "-----------------------------\n",
            "Most of the functions in `numpy` return a copy of the array argument\n",
            "(e.g., `np.sort`).  In-place versions of these functions are often\n",
            "available as array methods, i.e. ``x = np.array([1,2,3]); x.sort()``.\n",
            "Exceptions to this rule are documented.\n",
            "\n",
            "\n"
          ]
        }
      ]
    },
    {
      "cell_type": "code",
      "source": [
        "print(np.__version__)"
      ],
      "metadata": {
        "colab": {
          "base_uri": "https://localhost:8080/"
        },
        "id": "1iDrT6Ey6dcp",
        "outputId": "f30601ac-27ac-41d4-9f84-b97f8b2022e5"
      },
      "execution_count": null,
      "outputs": [
        {
          "output_type": "stream",
          "name": "stdout",
          "text": [
            "2.0.2\n"
          ]
        }
      ]
    },
    {
      "cell_type": "code",
      "source": [
        "# Numpy array and basics\n"
      ],
      "metadata": {
        "id": "LVrk8Jlw7btZ"
      },
      "execution_count": null,
      "outputs": []
    },
    {
      "cell_type": "markdown",
      "source": [
        "CREATING ARRAY FROM LIST\n"
      ],
      "metadata": {
        "id": "qa-hpyDewj0m"
      }
    },
    {
      "cell_type": "code",
      "source": [
        "import numpy as np\n",
        "import time\n",
        "\n",
        "arr = np.array([1,2,3,4,5])\n",
        "print(arr)\n",
        "\n",
        "# 2d array ( add [[arr],[arr]] for to create 2d array)\n",
        "arr2 = np.array([[1,2,3],[4,5,6]])\n",
        "print(arr2)\n",
        "\n",
        "# Difference between List vs Numpy array\n",
        "py_list = [1,2,3,4,5]\n",
        "np_arr = np.array([1,2,3,4,5])\n",
        "\n",
        "print(py_list)\n",
        "# array multi means * with the scaler value so it give one value as output\n",
        "# like  np_arr * 2 : array multiplication  [ 2  4  6  8 10]\n",
        "# element wise miltiplication\n",
        "print( 'array multiplication ', np_arr * 2 )\n",
        "\n",
        "# but we want the to multi. the value seperately\n",
        "np_arr1 = np.arange(100)*2\n",
        "print(np_arr1)"
      ],
      "metadata": {
        "id": "FqZUnbH1AiGe",
        "colab": {
          "base_uri": "https://localhost:8080/"
        },
        "outputId": "62f2570c-ab85-49c6-ea7a-dbf941061aab"
      },
      "execution_count": null,
      "outputs": [
        {
          "output_type": "stream",
          "name": "stdout",
          "text": [
            "[1 2 3 4 5]\n",
            "[[1 2 3]\n",
            " [4 5 6]]\n",
            "[1, 2, 3, 4, 5]\n",
            "array multiplication  [ 2  4  6  8 10]\n",
            "[  0   2   4   6   8  10  12  14  16  18  20  22  24  26  28  30  32  34\n",
            "  36  38  40  42  44  46  48  50  52  54  56  58  60  62  64  66  68  70\n",
            "  72  74  76  78  80  82  84  86  88  90  92  94  96  98 100 102 104 106\n",
            " 108 110 112 114 116 118 120 122 124 126 128 130 132 134 136 138 140 142\n",
            " 144 146 148 150 152 154 156 158 160 162 164 166 168 170 172 174 176 178\n",
            " 180 182 184 186 188 190 192 194 196 198]\n"
          ]
        }
      ]
    },
    {
      "cell_type": "markdown",
      "source": [
        "CREATING ARRAY FROM SCRACH"
      ],
      "metadata": {
        "id": "sAcAxAIsznGV"
      }
    },
    {
      "cell_type": "code",
      "source": [
        "zeros = np.zeros((3,4))\n",
        "print(zeros)"
      ],
      "metadata": {
        "colab": {
          "base_uri": "https://localhost:8080/"
        },
        "id": "pZmYoedgwwSF",
        "outputId": "cefa9e21-7057-427e-f3ed-f10e6cfcc2ed"
      },
      "execution_count": null,
      "outputs": [
        {
          "output_type": "stream",
          "name": "stdout",
          "text": [
            "[[0. 0. 0. 0.]\n",
            " [0. 0. 0. 0.]\n",
            " [0. 0. 0. 0.]]\n"
          ]
        }
      ]
    },
    {
      "cell_type": "code",
      "source": [
        "ones = np.ones((3,4))\n",
        "print(ones)"
      ],
      "metadata": {
        "colab": {
          "base_uri": "https://localhost:8080/"
        },
        "id": "KpxQSfD30BkI",
        "outputId": "9fa97b4c-11f9-42a1-b495-998329bda2eb"
      },
      "execution_count": null,
      "outputs": [
        {
          "output_type": "stream",
          "name": "stdout",
          "text": [
            "[[1. 1. 1. 1.]\n",
            " [1. 1. 1. 1.]\n",
            " [1. 1. 1. 1.]]\n"
          ]
        }
      ]
    },
    {
      "cell_type": "markdown",
      "source": [
        "CONSTANT ARRAY"
      ],
      "metadata": {
        "id": "BQUQEInX0WiT"
      }
    },
    {
      "cell_type": "code",
      "source": [
        "full = np.full((3,4),2)\n",
        "print(full)"
      ],
      "metadata": {
        "colab": {
          "base_uri": "https://localhost:8080/"
        },
        "id": "OyJjPJ7L0GZm",
        "outputId": "6c49c2eb-6873-4b72-b6c1-8128623c23a7"
      },
      "execution_count": null,
      "outputs": [
        {
          "output_type": "stream",
          "name": "stdout",
          "text": [
            "[[2 2 2 2]\n",
            " [2 2 2 2]\n",
            " [2 2 2 2]]\n"
          ]
        }
      ]
    },
    {
      "cell_type": "markdown",
      "source": [
        "RANDOM ARRAY (RANDON METHOD)\n"
      ],
      "metadata": {
        "id": "Ta6Lmgij0ist"
      }
    },
    {
      "cell_type": "code",
      "source": [
        "random = np.random.random((2,2))\n",
        "print(random)"
      ],
      "metadata": {
        "colab": {
          "base_uri": "https://localhost:8080/"
        },
        "id": "jgo5ZQ6F0cUx",
        "outputId": "756fde52-5ce8-47a2-a322-e7b7c4dde72b"
      },
      "execution_count": null,
      "outputs": [
        {
          "output_type": "stream",
          "name": "stdout",
          "text": [
            "[[0.19419031 0.02520941]\n",
            " [0.05531085 0.71639499]]\n"
          ]
        }
      ]
    },
    {
      "cell_type": "markdown",
      "source": [
        "SEQUENCE AND RANGE ARRAY"
      ],
      "metadata": {
        "id": "2dt-K8uC00YF"
      }
    },
    {
      "cell_type": "code",
      "source": [
        "sequence = np.arange(0,10,2)\n",
        "sequence1 = np.arange(0,10,3)\n",
        "sequence2 = np.arange(0,10,4)\n",
        "sequence3 = np.arange(0,10,5)\n",
        "print(sequence,sequence1,sequence2,sequence3)"
      ],
      "metadata": {
        "colab": {
          "base_uri": "https://localhost:8080/"
        },
        "id": "cOZDcusA0wjh",
        "outputId": "abe41e52-0a0b-4922-900f-762efe447615"
      },
      "execution_count": null,
      "outputs": [
        {
          "output_type": "stream",
          "name": "stdout",
          "text": [
            "[0 2 4 6 8] [0 3 6 9] [0 4 8] [0 5]\n"
          ]
        }
      ]
    },
    {
      "cell_type": "markdown",
      "source": [
        "VECTOR,MATRICES & TENSOR"
      ],
      "metadata": {
        "id": "3AeoRihF1SEM"
      }
    },
    {
      "cell_type": "code",
      "source": [
        "# vector\n",
        "vector = np.array([1,2,3,4,5])\n",
        "print(\"vector\", vector)\n",
        "\n",
        "# matrices\n",
        "matrices = np.array([[1,2,3],[4,5,6]])\n",
        "print(\"matrices\", matrices)\n",
        "\n",
        "# tensor (for multi-dimensional array)\n",
        "tensor = np.array([\n",
        "    [   [1,2,3],[4,5,6]   ],[  [7,8,9],[10,11,12]  ] ])\n",
        "print(\"tensor\", tensor)\n"
      ],
      "metadata": {
        "colab": {
          "base_uri": "https://localhost:8080/"
        },
        "id": "ckKJ1J5m1CUx",
        "outputId": "b69770f3-e8c7-4b7f-a5ef-d120fe7e1b1c"
      },
      "execution_count": null,
      "outputs": [
        {
          "output_type": "stream",
          "name": "stdout",
          "text": [
            "vector [1 2 3 4 5]\n",
            "matrices [[1 2 3]\n",
            " [4 5 6]]\n",
            "tensor [[[ 1  2  3]\n",
            "  [ 4  5  6]]\n",
            "\n",
            " [[ 7  8  9]\n",
            "  [10 11 12]]]\n"
          ]
        }
      ]
    },
    {
      "cell_type": "markdown",
      "source": [
        "ARRAY PROPERTIES"
      ],
      "metadata": {
        "id": "q3p2nSzR2nDw"
      }
    },
    {
      "cell_type": "code",
      "source": [
        "arr = np.array([[1,2,3],[4,5,6],[4,5,6]])\n",
        "print(\"shape\",arr.shape)\n",
        "print(\"size\",arr.size)\n",
        "print(\"dimension\",arr.ndim)\n",
        "print(\"data type\",arr.dtype)\n",
        "\n"
      ],
      "metadata": {
        "colab": {
          "base_uri": "https://localhost:8080/"
        },
        "id": "lx492lw01nqZ",
        "outputId": "55974a63-47c2-4916-f8ff-86c6a348731b"
      },
      "execution_count": null,
      "outputs": [
        {
          "output_type": "stream",
          "name": "stdout",
          "text": [
            "shape (3, 3)\n",
            "size 9\n",
            "dimension 2\n",
            "data type int64\n"
          ]
        }
      ]
    },
    {
      "cell_type": "markdown",
      "source": [
        "ARRAY RESHAPING"
      ],
      "metadata": {
        "id": "49P8cXBm4ARQ"
      }
    },
    {
      "cell_type": "code",
      "source": [
        "arr = np.arange(12)\n",
        "print(\"Original array\", arr)\n",
        "\n",
        "reshaped_arr = arr.reshape(3,4)\n",
        "print(\"\\n Reshaped array\", reshaped_arr)\n",
        "\n",
        "flattened_arr = reshaped_arr.flatten()\n",
        "print(\"\\n Flattened array\", flattened_arr)\n",
        "\n",
        "# ravel (returns view instead of copy)\n",
        "reveled_arr = reshaped_arr.ravel()\n",
        "print(\"\\n Revelled array\", reveled_arr)\n",
        "\n",
        "# Transpose of a matrices\n",
        "transposed_arr = reshaped_arr.T\n",
        "print(\"\\n Transposed array\", transposed_arr)"
      ],
      "metadata": {
        "colab": {
          "base_uri": "https://localhost:8080/"
        },
        "id": "IwE1yfEE3Xrj",
        "outputId": "034423a1-ce4a-4e01-f6fc-f29102b00eef"
      },
      "execution_count": null,
      "outputs": [
        {
          "output_type": "stream",
          "name": "stdout",
          "text": [
            "Original array [ 0  1  2  3  4  5  6  7  8  9 10 11]\n",
            "\n",
            " Reshaped array [[ 0  1  2  3]\n",
            " [ 4  5  6  7]\n",
            " [ 8  9 10 11]]\n",
            "\n",
            " Flattened array [ 0  1  2  3  4  5  6  7  8  9 10 11]\n",
            "\n",
            " Revelled array [ 0  1  2  3  4  5  6  7  8  9 10 11]\n",
            "\n",
            " Transposed array [[ 0  4  8]\n",
            " [ 1  5  9]\n",
            " [ 2  6 10]\n",
            " [ 3  7 11]]\n"
          ]
        }
      ]
    },
    {
      "cell_type": "markdown",
      "source": [
        "NUMPY ARRAY OPERATIONS\n"
      ],
      "metadata": {
        "id": "gdr98t0pFsz_"
      }
    },
    {
      "cell_type": "code",
      "source": [
        "import numpy as np\n",
        "\n",
        "# Basic slicing\n",
        "arr = np.array([1,2,3,4,5,6,7,8,9,10])\n",
        "print(\"Basic slicing\", arr[2:7])\n",
        "#this one make two step result for arr = With step [2 4 6]\n",
        "print(\"With step\", arr[1:7:2])\n",
        "# this one give the result in last of -1 one the array\n",
        "print(\"Reverse\", arr[::-1])"
      ],
      "metadata": {
        "colab": {
          "base_uri": "https://localhost:8080/"
        },
        "id": "meJ88pKY45z4",
        "outputId": "cc776c9e-0133-47bc-ee91-cd0d04ba7a39"
      },
      "execution_count": null,
      "outputs": [
        {
          "output_type": "stream",
          "name": "stdout",
          "text": [
            "Basic slicing [3 4 5 6 7]\n",
            "With step [2 4 6]\n",
            "Reverse [10  9  8  7  6  5  4  3  2  1]\n"
          ]
        }
      ]
    },
    {
      "cell_type": "code",
      "source": [
        "# Indexing slicing for 2d array\n",
        "arr_2d = np.array([[1,2,3],[4,5,6],[7,8,9]])\n",
        "\n",
        "# It will give me the specific row element\n",
        "# for this it will be 1st row and and the second column\n",
        "print(\"Indexing slicing for 2d array\", arr_2d[1,2])\n",
        "\n",
        "# for complete row\n",
        "print(\"Entire row\", arr_2d[1])\n",
        "\n",
        "# for complete column\n",
        "print(\"Entire column\", arr_2d[:,1])\n",
        "\n"
      ],
      "metadata": {
        "colab": {
          "base_uri": "https://localhost:8080/"
        },
        "id": "vqpJNh5-GQxt",
        "outputId": "2160caeb-8776-4276-fae1-e9dfc018772a"
      },
      "execution_count": null,
      "outputs": [
        {
          "output_type": "stream",
          "name": "stdout",
          "text": [
            "Indexing slicing for 2d array 6\n",
            "Entire row [4 5 6]\n",
            "Entire column [2 5 8]\n"
          ]
        }
      ]
    },
    {
      "cell_type": "markdown",
      "source": [
        "SORTING IN ARRAY"
      ],
      "metadata": {
        "id": "T529GX4JIdDw"
      }
    },
    {
      "cell_type": "code",
      "source": [
        "un_arr = np.array([3,5,6,2,5,1,6,9,0,1])\n",
        "sort_arr = np.sort(un_arr)\n",
        "print(\"Basic sorting in np\",sort_arr)\n",
        "\n",
        "arr1_un_2d = np.array([[3,1],[1,2],[2,3]])\n",
        "\n",
        "# column wise sorting in array (top to bottom)\n",
        "arr1_sort_2d = np.sort(arr1_un_2d , axis=0)\n",
        "print(\"2d sorting in np\",arr1_sort_2d)\n",
        "\n",
        "# sort the array in row wise manner (left to right)\n",
        "arr2_sort_2d = np.sort(arr1_un_2d , axis=1)\n",
        "print(\"2d sorting in np\",arr2_sort_2d)\n",
        "\n",
        "\n"
      ],
      "metadata": {
        "colab": {
          "base_uri": "https://localhost:8080/"
        },
        "id": "sP1-1XxmISLh",
        "outputId": "c86430eb-20a6-48a4-b1ab-1e23de99d4b5"
      },
      "execution_count": null,
      "outputs": [
        {
          "output_type": "stream",
          "name": "stdout",
          "text": [
            "Basic sorting in np [0 1 1 2 3 5 5 6 6 9]\n",
            "2d sorting in np [[1 1]\n",
            " [2 2]\n",
            " [3 3]]\n",
            "2d sorting in np [[1 3]\n",
            " [1 2]\n",
            " [2 3]]\n"
          ]
        }
      ]
    },
    {
      "cell_type": "markdown",
      "source": [
        "FILTER IN ARRAY"
      ],
      "metadata": {
        "id": "wsktlziBKP2q"
      }
    },
    {
      "cell_type": "code",
      "source": [
        "num = np.arange(12)\n",
        "even_num = num[num % 2 == 0]\n",
        "print(\"Even numbers\", even_num)"
      ],
      "metadata": {
        "colab": {
          "base_uri": "https://localhost:8080/"
        },
        "id": "fUIc4m8kIt1t",
        "outputId": "655621f9-ba83-4da0-fb89-27da3a6485e6"
      },
      "execution_count": null,
      "outputs": [
        {
          "output_type": "stream",
          "name": "stdout",
          "text": [
            "Even numbers [ 0  2  4  6  8 10]\n"
          ]
        }
      ]
    },
    {
      "cell_type": "markdown",
      "source": [
        "FILTER WITH MASK"
      ],
      "metadata": {
        "id": "0mE4GUq3LFMR"
      }
    },
    {
      "cell_type": "code",
      "source": [
        "#\n",
        "mask = num % 2 == 0\n",
        "even_num = num[mask]\n",
        "print(\"Even numbers\", even_num)"
      ],
      "metadata": {
        "colab": {
          "base_uri": "https://localhost:8080/"
        },
        "id": "10WJ-TrqK_vj",
        "outputId": "2ae3d0ed-2aac-40df-e654-74474555c67d"
      },
      "execution_count": null,
      "outputs": [
        {
          "output_type": "stream",
          "name": "stdout",
          "text": [
            "Even numbers [ 0  2  4  6  8 10]\n"
          ]
        }
      ]
    },
    {
      "cell_type": "markdown",
      "source": [
        "FANCY INDEXING VS NP.WHERE()"
      ],
      "metadata": {
        "id": "9cp_4-JfLkIL"
      }
    },
    {
      "cell_type": "code",
      "source": [
        "# we can access the indeces\n",
        "indices = [0,2,3,5]\n",
        "print(un_arr[indices])\n",
        "\n",
        "where_result = np.where(num % 2 == 0)\n",
        "print(\"tell the index\",where_result)\n",
        "print(\"tell the elements in that index\",num[where_result])"
      ],
      "metadata": {
        "colab": {
          "base_uri": "https://localhost:8080/"
        },
        "id": "Xott64ZCLbcL",
        "outputId": "6a004e9c-fca7-4e8a-b4f9-ecf64cb19aa5"
      },
      "execution_count": null,
      "outputs": [
        {
          "output_type": "stream",
          "name": "stdout",
          "text": [
            "[3 6 2 1]\n",
            "tell the index (array([ 0,  2,  4,  6,  8, 10]),)\n",
            "tell the elements in that index [ 0  2  4  6  8 10]\n"
          ]
        }
      ]
    },
    {
      "cell_type": "markdown",
      "source": [
        "CONDITION ARRAY"
      ],
      "metadata": {
        "id": "Z7M8mZn0M6x8"
      }
    },
    {
      "cell_type": "code",
      "source": [
        "'''\n",
        "if(num % 2 == 0):\n",
        "  print(num*2)\n",
        "else:\n",
        "  print(num-4)\n",
        "\n",
        "This code is equivalent to the below code\n",
        "'''\n",
        "condition_arr = np.where(num % 2 == 0, num*2, num-4)\n",
        "print(condition_arr)"
      ],
      "metadata": {
        "colab": {
          "base_uri": "https://localhost:8080/"
        },
        "id": "6tqCU4grMKXq",
        "outputId": "a8367b60-af7e-445b-eac6-88db7a68f663"
      },
      "execution_count": null,
      "outputs": [
        {
          "output_type": "stream",
          "name": "stdout",
          "text": [
            "[ 0 -3  4 -1  8  1 12  3 16  5 20  7]\n"
          ]
        }
      ]
    },
    {
      "cell_type": "markdown",
      "source": [
        "ADDING AND REMOVING DATA , MERGING"
      ],
      "metadata": {
        "id": "WDQtqeMlOztZ"
      }
    },
    {
      "cell_type": "code",
      "source": [
        "arr1 = np.array([1,2,3,4])\n",
        "arr2 = np.array([-1,-2,-3,-4])\n",
        "# wants to concatenate\n",
        "combined_arr = np.concatenate((arr1,arr2))\n",
        "print(combined_arr)\n",
        "\n"
      ],
      "metadata": {
        "colab": {
          "base_uri": "https://localhost:8080/"
        },
        "id": "l1tENhaTNIVy",
        "outputId": "2f96752e-c3e4-43fb-80b8-8220abe5b9af"
      },
      "execution_count": null,
      "outputs": [
        {
          "output_type": "stream",
          "name": "stdout",
          "text": [
            "[ 1  2  3  4 -1 -2 -3 -4]\n"
          ]
        }
      ]
    },
    {
      "cell_type": "markdown",
      "source": [
        "ARRAY COMPATIBILITY"
      ],
      "metadata": {
        "id": "2MHRRc8LPcPt"
      }
    },
    {
      "cell_type": "code",
      "source": [
        "arr1 = np.array([1,2,3,4])\n",
        "arr2 = np.array([-1,-2,-3,-4])\n",
        "arr3 = np.array([5,6,7,8])\n",
        "\n",
        "# it willl give the output as true or false\n",
        "print(\"Compatibility shapes\", arr2.shape == arr2.shape)\n",
        "\n",
        "# if Compatibility false then we use vstack or hstack\n",
        "# to make the new data in row or column\n",
        "\n",
        "\n"
      ],
      "metadata": {
        "id": "XrYnNXYXPUrG"
      },
      "execution_count": null,
      "outputs": []
    },
    {
      "cell_type": "markdown",
      "source": [
        "ADVANCED OPERATIONS AND BUSINESS EXAMPLES"
      ],
      "metadata": {
        "id": "Jr82kLw5cgQt"
      }
    },
    {
      "cell_type": "code",
      "source": [
        "!pip install matplotlib"
      ],
      "metadata": {
        "id": "mT0qqLcsP0c3",
        "colab": {
          "base_uri": "https://localhost:8080/"
        },
        "outputId": "406a73be-c00c-48b3-95fd-81505a52b502"
      },
      "execution_count": null,
      "outputs": [
        {
          "output_type": "stream",
          "name": "stdout",
          "text": [
            "Requirement already satisfied: matplotlib in /usr/local/lib/python3.11/dist-packages (3.10.0)\n",
            "Requirement already satisfied: contourpy>=1.0.1 in /usr/local/lib/python3.11/dist-packages (from matplotlib) (1.3.1)\n",
            "Requirement already satisfied: cycler>=0.10 in /usr/local/lib/python3.11/dist-packages (from matplotlib) (0.12.1)\n",
            "Requirement already satisfied: fonttools>=4.22.0 in /usr/local/lib/python3.11/dist-packages (from matplotlib) (4.57.0)\n",
            "Requirement already satisfied: kiwisolver>=1.3.1 in /usr/local/lib/python3.11/dist-packages (from matplotlib) (1.4.8)\n",
            "Requirement already satisfied: numpy>=1.23 in /usr/local/lib/python3.11/dist-packages (from matplotlib) (2.0.2)\n",
            "Requirement already satisfied: packaging>=20.0 in /usr/local/lib/python3.11/dist-packages (from matplotlib) (24.2)\n",
            "Requirement already satisfied: pillow>=8 in /usr/local/lib/python3.11/dist-packages (from matplotlib) (11.1.0)\n",
            "Requirement already satisfied: pyparsing>=2.3.1 in /usr/local/lib/python3.11/dist-packages (from matplotlib) (3.2.3)\n",
            "Requirement already satisfied: python-dateutil>=2.7 in /usr/local/lib/python3.11/dist-packages (from matplotlib) (2.8.2)\n",
            "Requirement already satisfied: six>=1.5 in /usr/local/lib/python3.11/dist-packages (from python-dateutil>=2.7->matplotlib) (1.17.0)\n"
          ]
        }
      ]
    },
    {
      "cell_type": "code",
      "source": [
        "import numpy as np\n",
        "import matplotlib.pyplot as plt\n",
        "\n",
        "# Create a NumPy array\n",
        "sales_data = np.full((3,4),12)\n",
        "\n",
        "print(\"matrix data \\n\",sales_data[:1])\n",
        "# output for this matrix data\n",
        "# [[12 12 12 12]]\n",
        "\n",
        "print(\"\\n matrix data \",sales_data[:,1:])\n",
        "# matrix data\n",
        "#  [[12 12 12]\n",
        "#  [12 12 12]\n",
        "#  [12 12 12]]\n",
        "\n",
        "\n",
        "# Calculate the total sales for each product\n",
        "# axis = 0 for to sum by column\n",
        "# axis = 1 for to sum by row\n",
        "total_sales = np.sum(sales_data, axis=0)\n",
        "print(\"\\n total sum\",total_sales)\n",
        "\n",
        "\n",
        "# cal. total sum except remove the first row from all\n",
        "total_sales_without_first_row = np.sum(sales_data[:,1:], axis=0)\n",
        "print(\"\\n total sum without first column\",total_sales_without_first_row)\n",
        "\n",
        "# min. sale for per restaurant\n",
        "min_sale = np.min(sales_data[:,1:], axis=1)\n",
        "print(\"\\n min sale\",min_sale)\n",
        "\n",
        "# max. sale for per restaurant\n",
        "max_sale = np.max(sales_data[:,1:], axis=0)\n",
        "print(\"\\n max sale \\n\",max_sale)\n",
        "\n",
        "print(\"\\n\",sales_data)\n",
        "\n",
        "avg_sales = np.mean(sales_data[:,1:], axis=1)\n",
        "print(\"\\n avg sale\",avg_sales)"
      ],
      "metadata": {
        "colab": {
          "base_uri": "https://localhost:8080/"
        },
        "id": "6wk1X6yCdIW6",
        "outputId": "c357b3cc-9644-4c09-d967-8c6f11f24323"
      },
      "execution_count": 8,
      "outputs": [
        {
          "output_type": "stream",
          "name": "stdout",
          "text": [
            "matrix data \n",
            " [[12 12 12 12]]\n",
            "\n",
            " matrix data  [[12 12 12]\n",
            " [12 12 12]\n",
            " [12 12 12]]\n",
            "\n",
            " total sum [36 36 36 36]\n",
            "\n",
            " total sum without first column [36 36 36]\n",
            "\n",
            " min sale [12 12 12]\n",
            "\n",
            " max sale \n",
            " [12 12 12]\n",
            "\n",
            " [[12 12 12 12]\n",
            " [12 12 12 12]\n",
            " [12 12 12 12]]\n",
            "\n",
            " avg sale [12. 12. 12.]\n"
          ]
        }
      ]
    },
    {
      "cell_type": "code",
      "source": [
        "import numpy as np\n",
        "import matplotlib.pyplot as plt\n",
        "\n",
        "# cumsum = np.cumsum(sales_data[:, 1:],axis=1)\n",
        "cumsum = np.cumsum(sales_data[:,1:], axis=1)\n",
        "print(cumsum)\n",
        "\n",
        "plt.figure(figsize=(4,2))\n",
        "plt.plot(np.mean(cumsum, axis=0))\n",
        "plt.title('Average cumulative sales accrss all restaurant')\n",
        "plt.xlabel('years')\n",
        "plt.ylabel('Sales')\n",
        "plt.show()"
      ],
      "metadata": {
        "id": "37tZFm-pe1sW",
        "colab": {
          "base_uri": "https://localhost:8080/",
          "height": 308
        },
        "outputId": "b74b9654-8dfd-4195-b5f1-33905c90874c"
      },
      "execution_count": 11,
      "outputs": [
        {
          "output_type": "stream",
          "name": "stdout",
          "text": [
            "[[12 24 36]\n",
            " [12 24 36]\n",
            " [12 24 36]]\n"
          ]
        },
        {
          "output_type": "display_data",
          "data": {
            "text/plain": [
              "<Figure size 400x200 with 1 Axes>"
            ],
            "image/png": "[encoded data removed]"
          },
          "metadata": {}
        }
      ]
    },
    {
      "cell_type": "code",
      "source": [],
      "metadata": {
        "id": "I0nSOFbmp8OW"
      },
      "execution_count": null,
      "outputs": []
    }
  ],
  "metadata": {
    "colab": {
      "provenance": [],
      "authorship_tag": "ABX9TyPcqBb9ApRnHIeXWfZedL11",
      "include_colab_link": true
    },
    "kernelspec": {
      "display_name": "Python 3",
      "name": "python3"
    },
    "language_info": {
      "name": "python"
    }
  },
  "nbformat": 4,
  "nbformat_minor": 0
}