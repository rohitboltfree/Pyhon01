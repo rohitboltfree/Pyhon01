{
  "nbformat": 4,
  "nbformat_minor": 0,
  "metadata": {
    "colab": {
      "provenance": [],
      "authorship_tag": "ABX9TyNysLIEc4XmxYjTp4n23NI0",
      "include_colab_link": true
    },
    "kernelspec": {
      "name": "python3",
      "display_name": "Python 3"
    },
    "language_info": {
      "name": "python"
    }
  },
  "cells": [
    {
      "cell_type": "markdown",
      "metadata": {
        "id": "view-in-github",
        "colab_type": "text"
      },
      "source": [
        "<a href=\"https://colab.research.google.com/github/rohitboltfree/Pyhon01/blob/main/py02_if%26loop.ipynb\" target=\"_parent\"><img src=\"https://colab.research.google.com/assets/colab-badge.svg\" alt=\"Open In Colab\"/></a>"
      ]
    },
    {
      "cell_type": "code",
      "execution_count": 1,
      "metadata": {
        "colab": {
          "base_uri": "https://localhost:8080/",
          "height": 54
        },
        "id": "i7c2URrgvYha",
        "outputId": "06d25c9f-be19-4690-dce3-9bb10624982d"
      },
      "outputs": [
        {
          "output_type": "execute_result",
          "data": {
            "text/plain": [
              "'  XOR , NOR , NAND \\n    x y    AND  OR  XOR NOR NAND\\n    0 0     0    0   0   1   1\\n    0 1     0    1   1   0   1\\n    1 0     0    1   1   0   1\\n    1 1     1    1   0   0   0\\n\\nQ1 find XOR in terms of basic gates\\n'"
            ],
            "application/vnd.google.colaboratory.intrinsic+json": {
              "type": "string"
            }
          },
          "metadata": {},
          "execution_count": 1
        }
      ],
      "source": [
        "'''  XOR , NOR , NAND\n",
        "                    (^) (~) ()\n",
        "    x y    AND  OR  XOR NOR NAND\n",
        "    0 0     0    0   0   1   1\n",
        "    0 1     0    1   1   0   1\n",
        "    1 0     0    1   1   0   1\n",
        "    1 1     1    1   0   0   0\n",
        "\n",
        "Q1 find XOR in terms of basic gates\n",
        "\n",
        "'''"
      ]
    },
    {
      "cell_type": "markdown",
      "source": [
        "Q1: consider age = -101 and b= -21 find a& ((a^b)>>31) | b& (~(a^b)>>31)"
      ],
      "metadata": {
        "id": "skfBo6JlxmFc"
      }
    },
    {
      "cell_type": "code",
      "source": [
        "a = -101\n",
        "b = -21\n",
        "a & ((a^b)>>31) | b& (~(a^b)>>31)"
      ],
      "metadata": {
        "colab": {
          "base_uri": "https://localhost:8080/"
        },
        "id": "hmKCWqg4xlGy",
        "outputId": "943ebc38-1efd-4cf4-fd5d-8b6d63acb697"
      },
      "execution_count": 2,
      "outputs": [
        {
          "output_type": "execute_result",
          "data": {
            "text/plain": [
              "-21"
            ]
          },
          "metadata": {},
          "execution_count": 2
        }
      ]
    },
    {
      "cell_type": "markdown",
      "source": [
        "Now starts if and else in this we just tell about the syntax of if and else : if  or the syntax of elif"
      ],
      "metadata": {
        "id": "ztEzWHJcz02w"
      }
    },
    {
      "cell_type": "code",
      "source": [
        "x = 10\n",
        "if x<2 :\n",
        "  print(\"x is less than 2\")\n",
        "else:\n",
        "  print(\"x is greater than 2\")\n",
        "\n",
        "if x<5 :\n",
        "  print(\"x is less than 5\")\n",
        "else:\n",
        "  print(\"x is greater than 5\")\n",
        "\n",
        "if x>=10 :\n",
        "  print(\"x is greater than or equal to 10\")\n",
        "elif x<20 :\n",
        "  print(\"x is less than 20 but greater than or equal to 10\")\n",
        "else:\n",
        "  print(\"x is less than 20\")\n",
        "\n"
      ],
      "metadata": {
        "colab": {
          "base_uri": "https://localhost:8080/"
        },
        "id": "wevc3Y2RzZFB",
        "outputId": "8858bfe1-d0f5-4222-d9db-12e34f04654e"
      },
      "execution_count": 3,
      "outputs": [
        {
          "output_type": "stream",
          "name": "stdout",
          "text": [
            "x is greater than 2\n",
            "x is greater than 5\n",
            "x is greater than or equal to 10\n"
          ]
        }
      ]
    },
    {
      "cell_type": "code",
      "source": [
        "y =12\n",
        "if y<2 & y>=12 :\n",
        "  print(\"y is\")\n",
        "else:\n",
        "  print(\"y is not\")"
      ],
      "metadata": {
        "colab": {
          "base_uri": "https://localhost:8080/"
        },
        "id": "yWhc3QVL1Lnm",
        "outputId": "8a83b648-0506-4a5b-bb9c-bfb93e1e2d65"
      },
      "execution_count": 6,
      "outputs": [
        {
          "output_type": "stream",
          "name": "stdout",
          "text": [
            "y is not\n"
          ]
        }
      ]
    },
    {
      "cell_type": "code",
      "source": [
        "'''\n",
        "     Take input for total marks &\n",
        "     it will give me ans in string\n",
        "'''\n",
        "total_marks = input(\"Enter your marks out 600: \")\n",
        "\n",
        "'''\n",
        "    Convert the input to an integer & so that we\n",
        "    have to convert it to an integer  we can also\n",
        "    use eval(input(\"Enter your marks out 600: \")) and\n",
        "        int(input(\"Enter your marks out 600: \"))\n",
        "'''\n",
        "total_marks = eval(total_marks)\n",
        "\n",
        "# Calculate the percentage (out of 600)\n",
        "total_percentage = (total_marks / 600) * 100\n",
        "\n",
        "# Determine the grade based on the percentage\n",
        "if total_percentage > 85:\n",
        "    print(\"A grade\")\n",
        "elif total_percentage >= 70 and total_percentage < 85:\n",
        "    print(\"B grade\")\n",
        "elif total_percentage >= 60 and total_percentage < 70:\n",
        "    print(\"C grade\")\n",
        "elif total_percentage >= 40 and total_percentage < 60:\n",
        "    print(\"D grade\")\n",
        "else:\n",
        "    print(\"E grade\")\n"
      ],
      "metadata": {
        "colab": {
          "base_uri": "https://localhost:8080/"
        },
        "id": "VSusid9i2-_U",
        "outputId": "1b68d42b-e84a-4eb7-cb4f-6ab5579adeac"
      },
      "execution_count": 22,
      "outputs": [
        {
          "output_type": "stream",
          "name": "stdout",
          "text": [
            "Enter your marks out 600: 555\n",
            "A grade\n"
          ]
        }
      ]
    },
    {
      "cell_type": "markdown",
      "source": [
        "find the min-m bwt-n 4 no.s\n"
      ],
      "metadata": {
        "id": "25p9FHOC-7ur"
      }
    },
    {
      "cell_type": "code",
      "source": [
        "#find the min-m bwt-n 4 no.s (recomended)\n",
        "a,b,c,d = 10,20,14,12\n",
        "\n",
        "if a<b and a<c and a<d:\n",
        "  print(\"a is min\",a)\n",
        "elif b<a and b<c and b<d:\n",
        "  print(\"b is min\",b)\n",
        "elif c<a and c<b and c<d:\n",
        "  print(\"c is min\",c)\n",
        "else:\n",
        "  print(\"d is min\",d)\n",
        "\n"
      ],
      "metadata": {
        "colab": {
          "base_uri": "https://localhost:8080/"
        },
        "id": "v1nO1Tcf3sSv",
        "outputId": "91e4a0a3-3efe-49f9-98a1-42b04fbf7de7"
      },
      "execution_count": 31,
      "outputs": [
        {
          "output_type": "stream",
          "name": "stdout",
          "text": [
            "a is min 10\n"
          ]
        }
      ]
    },
    {
      "cell_type": "code",
      "source": [
        "# 2nd method\n",
        "min1 = a<d<c<b\n",
        "min2 = b<c<d<a\n",
        "min3 = c<d<a<b\n",
        "min4 = d<a<b<c\n",
        "\n",
        "min_num = min1*a + min2*b + min3*c + min4*d\n",
        "if min_num == a:\n",
        "  print(\"a is min\",a)\n",
        "elif min_num == b:\n",
        "  print(\"b is min\",b)\n",
        "elif min_num == c:\n",
        "  print(\"c is min\",c)\n",
        "else:\n",
        "  print(\"d is min\",d)"
      ],
      "metadata": {
        "colab": {
          "base_uri": "https://localhost:8080/"
        },
        "id": "-s54kTEkAeTN",
        "outputId": "83af21f3-5fa1-494f-a04c-97caa0d22d9e"
      },
      "execution_count": 28,
      "outputs": [
        {
          "output_type": "stream",
          "name": "stdout",
          "text": [
            "a is min 10\n"
          ]
        }
      ]
    },
    {
      "cell_type": "code",
      "source": [
        "#  method three(recomended)\n",
        "if a<b:\n",
        "  min_ab = a\n",
        "else:\n",
        "  min_ab = b\n",
        "if c<d:\n",
        "  min_cd = c\n",
        "else:\n",
        "  min_cd = d\n",
        "\n",
        "if min_ab<min_cd:\n",
        "  print(min_ab,\"is min\")\n",
        "else:\n",
        "  print(min_cd,\"is min\")"
      ],
      "metadata": {
        "colab": {
          "base_uri": "https://localhost:8080/"
        },
        "id": "84hYLS2nBqT9",
        "outputId": "da4af26d-8db5-4d10-b55f-075001994d1c"
      },
      "execution_count": 29,
      "outputs": [
        {
          "output_type": "stream",
          "name": "stdout",
          "text": [
            "10 is min\n"
          ]
        }
      ]
    },
    {
      "cell_type": "code",
      "source": [
        "# if we use ternary operator\n",
        "min_ab = a if a<b else b\n",
        "min_cd = c if c<d else d\n",
        "\n",
        "min_num = min_ab if min_ab<min_cd else min_cd\n",
        "print(min_num,\"is min\")"
      ],
      "metadata": {
        "colab": {
          "base_uri": "https://localhost:8080/"
        },
        "id": "Rrnvv55LBtZP",
        "outputId": "ea80c5ef-dc27-4257-c3f0-5a53a28d490d"
      },
      "execution_count": 32,
      "outputs": [
        {
          "output_type": "stream",
          "name": "stdout",
          "text": [
            "10 is min\n"
          ]
        }
      ]
    },
    {
      "cell_type": "markdown",
      "source": [
        "Loop starts from here"
      ],
      "metadata": {
        "id": "6D5M446DDC1k"
      }
    },
    {
      "cell_type": "code",
      "source": [
        "'''\n",
        "    help me to check the boiling water until\n",
        "    water boils\n",
        "'''\n",
        "temp = 100\n",
        "b_water = 0\n",
        "\n",
        "while b_water < temp :\n",
        "  b_water = b_water + 10\n",
        "  print(\"keep checking\",b_water)\n",
        "\n"
      ],
      "metadata": {
        "colab": {
          "base_uri": "https://localhost:8080/"
        },
        "id": "Trf2gPl_C4Ls",
        "outputId": "4ca8af9e-bcdf-418d-a8b9-2d9c606204f8"
      },
      "execution_count": 36,
      "outputs": [
        {
          "output_type": "stream",
          "name": "stdout",
          "text": [
            "keep checking 10\n",
            "keep checking 20\n",
            "keep checking 30\n",
            "keep checking 40\n",
            "keep checking 50\n",
            "keep checking 60\n",
            "keep checking 70\n",
            "keep checking 80\n",
            "keep checking 90\n",
            "keep checking 100\n"
          ]
        }
      ]
    },
    {
      "cell_type": "code",
      "source": [
        "'''\n",
        "    using for loop\n",
        "    if we use for loop we don't have to increment each time\n",
        "    ex: for b_water in range(temp):\n",
        "    print(\"keep checking\",b_water)\n",
        "\n",
        "    explain range(starts from, end from, add on each iteration)\n",
        "            range(10,110,10)\n",
        "\n",
        "\n",
        "'''\n",
        "\n",
        "for b_water in range(10,110,10):\n",
        "  print(\"keep checking\",b_water)"
      ],
      "metadata": {
        "colab": {
          "base_uri": "https://localhost:8080/"
        },
        "id": "qjZDaRs6EpDq",
        "outputId": "83447e5a-1e97-4180-ba62-9efe408afb0f"
      },
      "execution_count": 40,
      "outputs": [
        {
          "output_type": "stream",
          "name": "stdout",
          "text": [
            "keep checking 10\n",
            "keep checking 20\n",
            "keep checking 30\n",
            "keep checking 40\n",
            "keep checking 50\n",
            "keep checking 60\n",
            "keep checking 70\n",
            "keep checking 80\n",
            "keep checking 90\n",
            "keep checking 100\n"
          ]
        }
      ]
    },
    {
      "cell_type": "code",
      "source": [],
      "metadata": {
        "id": "QF_NtGzZFxxI"
      },
      "execution_count": null,
      "outputs": []
    }
  ]
}